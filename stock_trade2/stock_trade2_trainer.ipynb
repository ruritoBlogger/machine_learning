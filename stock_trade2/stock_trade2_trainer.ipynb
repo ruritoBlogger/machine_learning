{
 "cells": [
  {
   "cell_type": "code",
   "execution_count": 16,
   "metadata": {
    "collapsed": true
   },
   "outputs": [],
   "source": [
    "import chainer\n",
    "from chainer import training, iterators, optimizers, serializers, Chain\n",
    "import chainer.functions as F\n",
    "import chainer.links as L\n",
    " \n",
    "from chainer.training import extensions\n",
    "from chainer.datasets import tuple_dataset\n",
    "from chainer import optimizers, Chain, dataset, datasets, iterators\n",
    "import numpy as np"
   ]
  },
  {
   "cell_type": "code",
   "execution_count": 17,
   "metadata": {
    "collapsed": true
   },
   "outputs": [],
   "source": [
    "def data_read( file_name, key_data, is_one_hot ):\n",
    "    teachers = np.array([] )\n",
    "    answers =  np.array([] )\n",
    "\n",
    "    f = open( file_name, mode = \"r\" )\n",
    "\n",
    "    f_string = f.readlines()\n",
    "\n",
    "    day_data = np.array([] )\n",
    "    tmp_data = np.array([] )\n",
    "    for i in range( 0, len( f_string ) ):\n",
    "        \n",
    "        day_data = np.append( day_data, float(f_string[i].replace( \"\\n\", \"\" )))\n",
    "        \n",
    "        # 一日のデータを格納する\n",
    "        if( (i+1)%6 == 0 and i != 0 ):\n",
    "            # 引数を軸にデータを教師データと正解ラベルに振り分ける\n",
    "            if( (i+1)//6%key_data == 0):\n",
    "                # 正解ラベルは終値\n",
    "                teachers = np.append( teachers, tmp_data)\n",
    "                # 正解ラベルをone hotで表現する場合\n",
    "                if( is_one_hot ):\n",
    "                    answers = np.append( answers, tmp_data[6 * (key_data - 1) - 3] > day_data[3])\n",
    "                else:\n",
    "                    answers = np.append( answers, day_data[3] )\n",
    "                tmp_data = np.array([] )\n",
    "            else:\n",
    "                tmp_data = np.append( tmp_data, day_data)\n",
    "                #teachers = np.append( teachers, day_data )\n",
    "            day_data = np.array([] )\n",
    "            \n",
    "    f.close()\n",
    "\n",
    "    \n",
    "    #if( len(teachers) != 0 ):\n",
    "        #teachers[3:-1:6] = scaler.fit_transform(teachers[3:-1:6])\n",
    "        #xmean = teachers[3:-1:6].mean(axis=1, keepdims=True)\n",
    "        #xstd  = np.std(teachers[3:-1:6], axis=1, keepdims=True)\n",
    "        #teachers[3:-1:6] = (x-xmean)/xstd\n",
    "    teachers = teachers.astype( np.float32 )\n",
    "    answers = answers.astype( np.float32 )\n",
    "\n",
    "    #teachers = np.reshape( teachers, ( int( len( teachers ) / 6 ), 6 ) )\n",
    "    #answers = np.reshape( answers, ( len( answers ) , 1 ) )\n",
    "\n",
    "    return teachers, answers\n"
   ]
  },
  {
   "cell_type": "code",
   "execution_count": 18,
   "metadata": {
    "collapsed": false
   },
   "outputs": [],
   "source": [
    "def take_data(year, key_day, is_one_hot):\n",
    "    file = open('nikkei.txt')\n",
    "    stock_numbers = file.readlines()\n",
    "    file.close()\n",
    "    \n",
    "    teachers = np.array([] )\n",
    "    answers =  np.array([] )\n",
    "    \n",
    "    for number in stock_numbers:\n",
    "        number = number.rstrip('\\n')\n",
    "        tmp_teacher, tmp_answer = data_read('./data/{}_{}.txt'.format(number, year), key_day, is_one_hot)\n",
    "        teachers = np.append( teachers, tmp_teacher)\n",
    "        answers = np.append( answers, tmp_answer)\n",
    "        \n",
    "    teachers = teachers.astype( np.float32 )\n",
    "    answers = answers.astype( np.int32 )\n",
    "\n",
    "    teachers = np.reshape( teachers, ( int( len( teachers ) / (6 * (key_day-1) ) ), 6 * (key_day-1) ) )\n",
    "    answers = np.reshape( answers, ( len( answers ) , 1 ) )\n",
    "    answers = answers.flat[:]\n",
    "\n",
    "    return teachers, answers"
   ]
  },
  {
   "cell_type": "code",
   "execution_count": 19,
   "metadata": {
    "collapsed": false
   },
   "outputs": [],
   "source": [
    "# 何日間のデータで学習させるか\n",
    "key_data = 6\n",
    "teachers, answers = take_data(2018, key_data, True)"
   ]
  },
  {
   "cell_type": "code",
   "execution_count": 20,
   "metadata": {
    "collapsed": false
   },
   "outputs": [],
   "source": [
    "#ニューラルネットワークの構築。\n",
    "class MyChain(Chain):\n",
    "    \n",
    "    def __init__(self, n_hidden, n_output):\n",
    "        super(MyChain, self).__init__(\n",
    "            l1=L.Linear(None, n_hidden),\n",
    "            l2=L.LSTM(None, n_hidden),\n",
    "            l3=L.Linear(None, n_output),\n",
    "        )\n",
    "        \n",
    "    def reset_state(self):\n",
    "        self.l2.reset_state()\n",
    "        \n",
    "    def __call__(self, x, t):\n",
    "        y = self.predict(x)\n",
    "        loss = F.softmax_cross_entropy(y, t)\n",
    "        accuracy = F.accuracy(y, t)\n",
    "        chainer.reporter.report({'accuracy':accuracy},self)\n",
    "        chainer.reporter.report({'loss':loss},self)\n",
    "        return loss\n",
    "    \n",
    "    def predict(self, x):\n",
    "        h1 = self.l1(x)\n",
    "        if train:\n",
    "            h2 = F.dropout(self.l2(h1),ratio = 0.5)\n",
    "        else:\n",
    "            h2 = self.l2(h1)\n",
    "        return self.l3(h2)"
   ]
  },
  {
   "cell_type": "code",
   "execution_count": 21,
   "metadata": {
    "collapsed": false
   },
   "outputs": [],
   "source": [
    "## LSTMUpdaterを作る。\n",
    "from chainer import Variable, reporter\n",
    "\n",
    "class LSTMUpdater(training.StandardUpdater):\n",
    "    def __init__(self, data_iter, optimizer, device=None):\n",
    "        super(LSTMUpdater,self).__init__(data_iter, optimizer, device=None)\n",
    "        self.device = device\n",
    "        \n",
    "    def update_core(self):\n",
    "        data_iter = self.get_iterator(\"main\")\n",
    "        optimizer = self.get_optimizer(\"main\")\n",
    "        \n",
    "        batch = data_iter.__next__()\n",
    "        x_batch, t_batch = chainer.dataset.concat_examples(batch, self.device)\n",
    "        \n",
    "        optimizer.target.reset_state()           #追加\n",
    "        optimizer.target.cleargrads()\n",
    "        loss = optimizer.target(Variable(x_batch), Variable(t_batch))\n",
    "        loss.backward()\n",
    "        loss.unchain_backward()                  #追記\n",
    "        optimizer.update() \n"
   ]
  },
  {
   "cell_type": "code",
   "execution_count": null,
   "metadata": {
    "collapsed": false,
    "scrolled": true
   },
   "outputs": [
    {
     "name": "stdout",
     "output_type": "stream",
     "text": [
      "epoch       main/loss   validation/main/loss  main/accuracy  validation/main/accuracy  elapsed_time\n",
      "\u001b[J10          0.696575    0.692055              0.515132       0.524571                  12.3219       \n",
      "\u001b[J20          0.692166    0.693623              0.522502       0.522667                  26.4691       \n",
      "\u001b[J30          0.691921    0.694141              0.523563       0.522111                  40.34         \n",
      "\u001b[J40          0.692033    0.693592              0.522194       0.518341                  54.9538       \n",
      "\u001b[J50          0.692064    0.693674              0.522629       0.516476                  69.2584       \n",
      "\u001b[J60          0.692026    0.694134              0.523003       0.517087                  83.4127       \n",
      "\u001b[J70          0.691969    0.694305              0.522516       0.51781                   97.7028       \n",
      "\u001b[J80          0.691819    0.695598              0.523021       0.517587                  112.043       \n",
      "\u001b[J90          0.691939    0.696257              0.522974       0.516865                  126.723       \n",
      "\u001b[J100         0.691934    0.697002              0.522797       0.516921                  141.252       \n",
      "\u001b[J110         0.691995    0.698401              0.521396       0.517254                  155.77        \n",
      "\u001b[J120         0.691762    0.699728              0.521825       0.516698                  170.171       \n",
      "\u001b[J130         0.692057    0.699862              0.522082       0.516976                  184.699       \n",
      "\u001b[J140         0.691841    0.700985              0.522559       0.516587                  199.48        \n",
      "\u001b[J150         0.691882    0.701871              0.522596       0.517143                  213.933       \n",
      "\u001b[J160         0.691801    0.703429              0.52218        0.516643                  228.506       \n",
      "\u001b[J170         0.6919      0.704314              0.523231       0.516865                  243.241       \n",
      "\u001b[J180         0.692047    0.70544               0.52282        0.51731                   258.085       \n",
      "\u001b[J190         0.691922    0.706688              0.522895       0.517421                  273.5         \n",
      "\u001b[J200         0.69182     0.708355              0.521087       0.517365                  288.932       \n",
      "\u001b[J210         0.691841    0.709079              0.522414       0.517476                  303.99        \n",
      "\u001b[J220         0.691952    0.709836              0.521438       0.517421                  319.048       \n",
      "\u001b[J230         0.691967    0.710558              0.52211        0.517254                  333.937       \n",
      "\u001b[J240         0.691964    0.711678              0.522862       0.516921                  348.885       \n",
      "\u001b[J250         0.692026    0.713565              0.521942       0.516365                  363.764       \n",
      "\u001b[J260         0.691887    0.713969              0.522937       0.517198                  378.739       \n",
      "\u001b[J270         0.691855    0.715167              0.523297       0.516754                  393.473       \n",
      "\u001b[J280         0.69196     0.716478              0.522474       0.516921                  408.29        \n",
      "\u001b[J290         0.69186     0.718071              0.522559       0.517032                  423.569       \n",
      "\u001b[J300         0.691888    0.719407              0.521769       0.517198                  438.299       \n",
      "\u001b[J310         0.691923    0.720824              0.522082       0.517421                  453.335       \n",
      "\u001b[J320         0.691955    0.722137              0.522881       0.517254                  468.096       \n",
      "\u001b[J330         0.691944    0.723093              0.522848       0.517143                  483.369       \n",
      "\u001b[J340         0.691986    0.72364               0.523021       0.516476                  498.106       \n",
      "\u001b[J350         0.692007    0.724565              0.523763       0.516754                  513.336       \n",
      "\u001b[J360         0.691841    0.725959              0.522204       0.517254                  528.262       \n",
      "\u001b[J370         0.691923    0.727988              0.522516       0.517143                  543.346       \n",
      "\u001b[J380         0.691886    0.729248              0.522923       0.516976                  558.295       \n",
      "\u001b[J390         0.692       0.729865              0.522806       0.516754                  573.237       \n",
      "\u001b[J400         0.691931    0.731354              0.522685       0.516865                  588.221       \n",
      "\u001b[J410         0.691894    0.733186              0.522965       0.518198                  603.503       \n",
      "\u001b[J420         0.691796    0.735179              0.523423       0.516921                  618.197       \n",
      "\u001b[J430         0.691896    0.736308              0.522783       0.518476                  633.394       \n",
      "\u001b[J440         0.691994    0.737856              0.522629       0.516865                  647.967       \n",
      "\u001b[J450         0.691902    0.73848               0.522862       0.517921                  662.693       \n",
      "\u001b[J460         0.691939    0.73979               0.522713       0.517976                  677.404       \n",
      "\u001b[J470         0.691961    0.741414              0.52246        0.517421                  692.175       \n",
      "\u001b[J480         0.691679    0.742142              0.522736       0.51781                   707.047       \n",
      "\u001b[J490         0.692193    0.743947              0.522671       0.516921                  722.005       \n",
      "\u001b[J500         0.691932    0.745064              0.523665       0.51631                   737.115       \n",
      "\u001b[J510         0.691862    0.746444              0.522063       0.516754                  751.918       \n",
      "\u001b[J520         0.69198     0.7464                0.522194       0.516865                  766.85        \n",
      "\u001b[J530         0.691945    0.746997              0.523063       0.516865                  781.941       \n",
      "\u001b[J540         0.691966    0.749233              0.522848       0.516865                  796.796       \n",
      "\u001b[J550         0.691939    0.750714              0.522446       0.516698                  814.381       \n",
      "\u001b[J560         0.691937    0.752115              0.521592       0.516698                  829.722       \n",
      "\u001b[J570         0.69189     0.753051              0.522834       0.516976                  844.641       \n",
      "\u001b[J580         0.692029    0.75458               0.521269       0.516698                  859.727       \n",
      "\u001b[J590         0.691918    0.755688              0.522951       0.516976                  874.894       \n",
      "\u001b[J600         0.691944    0.75619               0.52097        0.516754                  890.073       \n",
      "\u001b[J610         0.691943    0.757662              0.521648       0.51681                   905.218       \n",
      "\u001b[J620         0.691906    0.757519              0.522418       0.517365                  919.557       \n",
      "\u001b[J630         0.691994    0.758104              0.522876       0.517254                  935.017       \n",
      "\u001b[J640         0.69181     0.75934               0.521606       0.517365                  949.648       \n",
      "\u001b[J650         0.691854    0.761492              0.521774       0.517032                  963.963       \n",
      "\u001b[J660         0.692025    0.763039              0.523269       0.516698                  978.261       \n",
      "\u001b[J670         0.692017    0.764063              0.523007       0.516643                  992.34        \n",
      "\u001b[J680         0.691932    0.764809              0.521564       0.517365                  1008.33       \n",
      "\u001b[J690         0.691889    0.767038              0.522862       0.51731                   1027.61       \n",
      "\u001b[J700         0.691871    0.768605              0.522657       0.517032                  1043.58       \n",
      "\u001b[J710         0.692006    0.770757              0.522516       0.517032                  1061.93       \n",
      "\u001b[J720         0.691714    0.771667              0.522232       0.517032                  1083.14       \n",
      "\u001b[J730         0.691816    0.772515              0.522587       0.516532                  1102.91       \n",
      "\u001b[J740         0.691832    0.774424              0.522124       0.516476                  1123.45       \n",
      "\u001b[J750         0.691997    0.775205              0.523101       0.516976                  1140.64       \n",
      "\u001b[J760         0.691977    0.775712              0.523161       0.517143                  1156.57       \n",
      "\u001b[J770         0.691878    0.776802              0.522699       0.517143                  1172.01       \n",
      "\u001b[J780         0.691782    0.778171              0.522021       0.51731                   1186.23       \n",
      "\u001b[J790         0.691903    0.77951               0.522923       0.516976                  1202.44       \n",
      "\u001b[J800         0.691871    0.779681              0.523273       0.518254                  1220.27       \n",
      "\u001b[J810         0.69192     0.78005               0.522344       0.518087                  1236.81       \n",
      "\u001b[J820         0.691891    0.781208              0.522026       0.516921                  1255.01       \n",
      "\u001b[J830         0.692005    0.781624              0.523301       0.516587                  1270.81       \n",
      "\u001b[J840         0.691839    0.782209              0.52275        0.516587                  1284.93       \n",
      "\u001b[J850         0.69203     0.78302               0.523441       0.517143                  1299          \n",
      "\u001b[J860         0.69179     0.783275              0.523581       0.517754                  1313.12       \n"
     ]
    }
   ],
   "source": [
    "#　教師データのtupleを作成する\n",
    "data = datasets.TupleDataset(teachers, answers)\n",
    "\n",
    "#総データの長さ\n",
    "N = len(teachers)\n",
    "\n",
    "# ログの保存用\n",
    "results_train = {\n",
    "    'loss': [],\n",
    "    'accuracy': []\n",
    "}\n",
    "results_valid = {\n",
    "    'loss': [],\n",
    "    'accuracy': []\n",
    "}\n",
    "\n",
    "n_batchsize = 30\n",
    "n_epoch = 10000\n",
    "\n",
    "#モデルを使う準備。オブジェクトを生成\n",
    "n_hidden = (key_data-1)*6\n",
    "n_output = 2\n",
    "model = MyChain(n_hidden, n_output)\n",
    "optimizer = optimizers.Adam()\n",
    "optimizer.setup(model)\n",
    "\n",
    "#学習用データと検証用データに分ける\n",
    "train, test = chainer.datasets.split_dataset_random(data, int(N * 0.8))\n",
    "train_iter = chainer.iterators.SerialIterator(train, n_batchsize, shuffle=False)\n",
    "test_iter = chainer.iterators.SerialIterator(test, n_batchsize, repeat=False, shuffle=False)\n",
    "updater = LSTMUpdater(train_iter, optimizer, device=-1)\n",
    "trainer = training.Trainer(updater, (n_epoch, \"epoch\"), out=\"result\")\n",
    "trainer.extend(extensions.Evaluator(test_iter, model, device=-1))\n",
    "trainer.extend(extensions.LogReport(trigger=(10, \"epoch\"))) # 1エポックごとにログ出力\n",
    "trainer.extend(extensions.PrintReport( [\"epoch\", \"main/loss\", \"validation/main/loss\", \"main/accuracy\", \"validation/main/accuracy\", \"elapsed_time\"])) # エポック、学習損失、テスト損失、学習正解率、テスト正解率、経過時間\n",
    "trainer.extend(extensions.PlotReport(['main/loss', 'val/main/loss'], x_key='epoch', file_name='loss.png'))\n",
    "trainer.extend(extensions.PlotReport(['main/accuracy', 'val/main/accuracy'], x_key='epoch', file_name='accuracy.png'))\n",
    "trainer.run()"
   ]
  },
  {
   "cell_type": "code",
   "execution_count": 42,
   "metadata": {
    "collapsed": false
   },
   "outputs": [
    {
     "data": {
      "image/png": "[encoded data removed]"
     },
     "metadata": {},
     "output_type": "display_data"
    }
   ],
   "source": [
    "from IPython.display import Image, display_png\n",
    "display_png(Image(\"./result/accuracy.png\"))"
   ]
  },
  {
   "cell_type": "code",
   "execution_count": 43,
   "metadata": {
    "collapsed": false
   },
   "outputs": [
    {
     "data": {
      "image/png": "[encoded data removed]"
     },
     "metadata": {},
     "output_type": "display_data"
    }
   ],
   "source": [
    "display_png(Image(\"./result/loss.png\"))"
   ]
  },
  {
   "cell_type": "code",
   "execution_count": null,
   "metadata": {
    "collapsed": true
   },
   "outputs": [],
   "source": []
  }
 ],
 "metadata": {
  "kernelspec": {
   "display_name": "Python 3",
   "language": "python",
   "name": "python3"
  },
  "language_info": {
   "codemirror_mode": {
    "name": "ipython",
    "version": 3
   },
   "file_extension": ".py",
   "mimetype": "text/x-python",
   "name": "python",
   "nbconvert_exporter": "python",
   "pygments_lexer": "ipython3",
   "version": "3.6.0"
  }
 },
 "nbformat": 4,
 "nbformat_minor": 2
}
