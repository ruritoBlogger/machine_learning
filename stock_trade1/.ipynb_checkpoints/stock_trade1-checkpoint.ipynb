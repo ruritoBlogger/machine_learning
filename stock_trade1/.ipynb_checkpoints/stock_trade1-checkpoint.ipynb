{
 "cells": [
  {
   "cell_type": "code",
   "execution_count": null,
   "metadata": {
    "collapsed": true
   },
   "outputs": [],
   "source": [
    "import chainer\n",
    "from chainer import training, iterators, optimizers, serializers, Chain\n",
    "import chainer.functions as F\n",
    "import chainer.links as L\n",
    " \n",
    "from chainer.training import extensions\n",
    "from chainer.datasets import tuple_dataset\n",
    "import numpy as np"
   ]
  },
  {
   "cell_type": "code",
   "execution_count": null,
   "metadata": {
    "collapsed": true
   },
   "outputs": [],
   "source": [
    "def data_read( ft_name, fa_name ):\n",
    "    teachers = np.array([] )\n",
    "    answers =  np.array([] )\n",
    "\n",
    "    ft = open( ft_name, mode = \"r\" )\n",
    "    fa = open( fa_name, mode = \"r\" )\n",
    "\n",
    "    ft_data_string = ft.readlines()\n",
    "    fa_data_string = fa.readlines()\n",
    "\n",
    "    for i in range( 0, len( ft_data_string ) ):\n",
    "        fa_data = fa_data_string[i].replace( \"\\n\", \"\" )\n",
    "        answers = np.append( answers, float( fa_data ) )\n",
    "        \n",
    "        ft_data = ft_data_string[i].replace( \"\\n\", \"\" )\n",
    "        ft_data = ft_data.split( \" \" )\n",
    "\n",
    "        for r in range( 0, len( ft_data ) ):\n",
    "            teachers = np.append( teachers ,float( ft_data[r] ) )\n",
    "\n",
    "    ft.close()\n",
    "    fa.close()\n",
    "\n",
    "    teachers = teachers.astype( np.float32 )\n",
    "    answers = answers.astype( np.float32 )\n",
    "\n",
    "    teachers = np.reshape( teachers, ( int( len( teachers ) / 3 ), 3 ) )\n",
    "    answers = np.reshape( answers, ( len( answers ) , 1 ) )\n",
    "\n",
    "    return teachers, answers\n"
   ]
  }
 ],
 "metadata": {
  "kernelspec": {
   "display_name": "Python 3",
   "language": "python",
   "name": "python3"
  },
  "language_info": {
   "codemirror_mode": {
    "name": "ipython",
    "version": 3
   },
   "file_extension": ".py",
   "mimetype": "text/x-python",
   "name": "python",
   "nbconvert_exporter": "python",
   "pygments_lexer": "ipython3",
   "version": "3.6.0"
  }
 },
 "nbformat": 4,
 "nbformat_minor": 2
}
