{
 "cells": [
  {
   "cell_type": "code",
   "execution_count": 1,
   "metadata": {
    "collapsed": true
   },
   "outputs": [],
   "source": [
    "import chainer\n",
    "from chainer import training, iterators, optimizers, serializers, Chain\n",
    "import chainer.functions as F\n",
    "import chainer.links as L\n",
    " \n",
    "from chainer.training import extensions\n",
    "from chainer.datasets import tuple_dataset\n",
    "from chainer import optimizers, Chain, dataset, datasets, iterators\n",
    "import numpy as np"
   ]
  },
  {
   "cell_type": "code",
   "execution_count": 2,
   "metadata": {
    "collapsed": true
   },
   "outputs": [],
   "source": [
    "def data_read( file_name, key_data, is_one_hot ):\n",
    "    teachers = np.array([] )\n",
    "    answers =  np.array([] )\n",
    "\n",
    "    f = open( file_name, mode = \"r\" )\n",
    "\n",
    "    f_string = f.readlines()\n",
    "\n",
    "    day_data = np.array([] )\n",
    "    tmp_data = np.array([] )\n",
    "    for i in range( 0, len( f_string ) ):\n",
    "        \n",
    "        day_data = np.append( day_data, float(f_string[i].replace( \"\\n\", \"\" )))\n",
    "        \n",
    "        # 一日のデータを格納する\n",
    "        if( (i+1)%6 == 0 and i != 0 ):\n",
    "            # 引数を軸にデータを教師データと正解ラベルに振り分ける\n",
    "            if( (i+1)//6%key_data == 0):\n",
    "                # 正解ラベルは終値\n",
    "                teachers = np.append( teachers, tmp_data)\n",
    "                # 正解ラベルをone hotで表現する場合\n",
    "                if( is_one_hot ):\n",
    "                    answers = np.append( answers, tmp_data[6 * (key_data - 1) - 3] > day_data[3])\n",
    "                else:\n",
    "                    answers = np.append( answers, day_data[3] )\n",
    "                tmp_data = np.array([] )\n",
    "            else:\n",
    "                tmp_data = np.append( tmp_data, day_data)\n",
    "                #teachers = np.append( teachers, day_data )\n",
    "            day_data = np.array([] )\n",
    "            \n",
    "    f.close()\n",
    "\n",
    "    teachers = teachers.astype( np.float32 )\n",
    "    answers = answers.astype( np.float32 )\n",
    "\n",
    "    #teachers = np.reshape( teachers, ( int( len( teachers ) / 6 ), 6 ) )\n",
    "    #answers = np.reshape( answers, ( len( answers ) , 1 ) )\n",
    "\n",
    "    return teachers, answers\n"
   ]
  },
  {
   "cell_type": "code",
   "execution_count": 3,
   "metadata": {
    "collapsed": false
   },
   "outputs": [],
   "source": [
    "def take_data(year, key_day, is_one_hot):\n",
    "    file = open('nikkei.txt')\n",
    "    stock_numbers = file.readlines()\n",
    "    file.close()\n",
    "    \n",
    "    teachers = np.array([] )\n",
    "    answers =  np.array([] )\n",
    "    \n",
    "    for number in stock_numbers:\n",
    "        number = number.rstrip('\\n')\n",
    "        tmp_teacher, tmp_answer = data_read('./data/{}_{}.txt'.format(number, year), key_day, is_one_hot)\n",
    "        teachers = np.append( teachers, tmp_teacher)\n",
    "        answers = np.append( answers, tmp_answer)\n",
    "        \n",
    "    teachers = teachers.astype( np.float32 )\n",
    "    answers = answers.astype( np.float32 )\n",
    "\n",
    "    teachers = np.reshape( teachers, ( int( len( teachers ) / (6 * (key_day-1) ) ), 6 * (key_day-1) ) )\n",
    "    answers = np.reshape( answers, ( len( answers ) , 1 ) )\n",
    "    answers = answers.flat[:]\n",
    "\n",
    "    return teachers, answers"
   ]
  },
  {
   "cell_type": "code",
   "execution_count": 4,
   "metadata": {
    "collapsed": false
   },
   "outputs": [],
   "source": [
    "#ニューラルネットワークの構築。\n",
    "class MyChain(Chain):\n",
    "    \n",
    "    def __init__(self, n_input, n_hidden, n_output):\n",
    "        super(MyChain, self).__init__(\n",
    "        l1=L.Linear(n_input, n_hidden[0]),\n",
    "        l2=L.Linear(n_hidden[0], n_hidden[1]),\n",
    "        #l3=L.Linear(n_hidden[1], n_output),\n",
    "        l3=L.Linear(n_hidden[1], n_hidden[2]),\n",
    "        l4=L.Linear(n_hidden[2], n_output),\n",
    "        #l4=L.Linear(n_hidden[2], n_hidden[3]),\n",
    "        #l5=L.Linear(n_hidden[3], n_hidden[4]),\n",
    "        #l6=L.Linear(n_hidden[4], n_hidden[5]),\n",
    "        #l7=L.Linear(n_hidden[5], n_hidden[5]),\n",
    "        #l8=L.Linear(n_hidden[5], n_output),\n",
    "    )\n",
    " \n",
    "    def __call__(self, x):\n",
    "        h1 = F.relu(self.l1(x))\n",
    "        h2 = F.relu(self.l2(h1))\n",
    "        #o = self.l3(h2)\n",
    "        h3 = F.relu(self.l3(h2))\n",
    "        o = self.l4(h3)\n",
    "        #o = F.relu(self.l4(h3))\n",
    "        #h4 = F.relu(self.l4(h3))\n",
    "        #h5 = F.relu(self.l5(h4))\n",
    "        #h6 = F.relu(self.l6(h5))\n",
    "        #h7 = F.relu(self.l7(h6))\n",
    "        #o = self.l8(h7)\n",
    "        return o"
   ]
  },
  {
   "cell_type": "code",
   "execution_count": 7,
   "metadata": {
    "collapsed": false
   },
   "outputs": [
    {
     "ename": "AttributeError",
     "evalue": "'SubDataset' object has no attribute 'astype'",
     "output_type": "error",
     "traceback": [
      "\u001b[0;31m---------------------------------------------------------------------------\u001b[0m",
      "\u001b[0;31mAttributeError\u001b[0m                            Traceback (most recent call last)",
      "\u001b[0;32m<ipython-input-7-a46a46cb92e4>\u001b[0m in \u001b[0;36m<module>\u001b[0;34m()\u001b[0m\n\u001b[1;32m     36\u001b[0m \u001b[0;34m\u001b[0m\u001b[0m\n\u001b[1;32m     37\u001b[0m \u001b[0;31m#学習用データと検証用データに分ける\u001b[0m\u001b[0;34m\u001b[0m\u001b[0;34m\u001b[0m\u001b[0m\n\u001b[0;32m---> 38\u001b[0;31m \u001b[0mtrain\u001b[0m\u001b[0;34m,\u001b[0m \u001b[0mtest\u001b[0m \u001b[0;34m=\u001b[0m \u001b[0mchainer\u001b[0m\u001b[0;34m.\u001b[0m\u001b[0mdatasets\u001b[0m\u001b[0;34m.\u001b[0m\u001b[0msplit_dataset_random\u001b[0m\u001b[0;34m(\u001b[0m\u001b[0mdata\u001b[0m\u001b[0;34m,\u001b[0m \u001b[0mint\u001b[0m\u001b[0;34m(\u001b[0m\u001b[0mN\u001b[0m \u001b[0;34m*\u001b[0m \u001b[0;36m0.8\u001b[0m\u001b[0;34m)\u001b[0m\u001b[0;34m)\u001b[0m\u001b[0;34m[\u001b[0m\u001b[0;36m0\u001b[0m\u001b[0;34m]\u001b[0m\u001b[0;34m.\u001b[0m\u001b[0mastype\u001b[0m\u001b[0;34m(\u001b[0m\u001b[0mnp\u001b[0m\u001b[0;34m.\u001b[0m\u001b[0mint32\u001b[0m\u001b[0;34m)\u001b[0m\u001b[0;34m\u001b[0m\u001b[0m\n\u001b[0m\u001b[1;32m     39\u001b[0m \u001b[0mtrain_iter\u001b[0m \u001b[0;34m=\u001b[0m \u001b[0mchainer\u001b[0m\u001b[0;34m.\u001b[0m\u001b[0miterators\u001b[0m\u001b[0;34m.\u001b[0m\u001b[0mSerialIterator\u001b[0m\u001b[0;34m(\u001b[0m\u001b[0mtrain\u001b[0m\u001b[0;34m,\u001b[0m \u001b[0mn_batchsize\u001b[0m\u001b[0;34m,\u001b[0m \u001b[0mrepeat\u001b[0m\u001b[0;34m=\u001b[0m\u001b[0;32mFalse\u001b[0m\u001b[0;34m,\u001b[0m \u001b[0mshuffle\u001b[0m\u001b[0;34m=\u001b[0m\u001b[0;32mFalse\u001b[0m\u001b[0;34m)\u001b[0m\u001b[0;34m\u001b[0m\u001b[0m\n\u001b[1;32m     40\u001b[0m \u001b[0mtest_iter\u001b[0m \u001b[0;34m=\u001b[0m \u001b[0mchainer\u001b[0m\u001b[0;34m.\u001b[0m\u001b[0miterators\u001b[0m\u001b[0;34m.\u001b[0m\u001b[0mSerialIterator\u001b[0m\u001b[0;34m(\u001b[0m\u001b[0mtest\u001b[0m\u001b[0;34m,\u001b[0m \u001b[0mn_batchsize\u001b[0m\u001b[0;34m,\u001b[0m \u001b[0mrepeat\u001b[0m\u001b[0;34m=\u001b[0m\u001b[0;32mFalse\u001b[0m\u001b[0;34m,\u001b[0m \u001b[0mshuffle\u001b[0m\u001b[0;34m=\u001b[0m\u001b[0;32mFalse\u001b[0m\u001b[0;34m)\u001b[0m\u001b[0;34m\u001b[0m\u001b[0m\n",
      "\u001b[0;31mAttributeError\u001b[0m: 'SubDataset' object has no attribute 'astype'"
     ]
    }
   ],
   "source": [
    "# 何日間のデータで学習させるか\n",
    "key_data = 6\n",
    "\n",
    "teachers, answers = take_data(2018, key_data, True)\n",
    "teachers = teachers.astype(np.int32)\n",
    "answers = answers.astype(np.int32)\n",
    "\n",
    "#　教師データのtupleを作成する\n",
    "\n",
    "data = datasets.TupleDataset(teachers, answers)\n",
    "\n",
    "#総データの長さ\n",
    "N = len(teachers)\n",
    "\n",
    "# ログの保存用\n",
    "results_train = {\n",
    "    'loss': [],\n",
    "    'accuracy': []\n",
    "}\n",
    "results_valid = {\n",
    "    'loss': [],\n",
    "    'accuracy': []\n",
    "}\n",
    "\n",
    "n_batchsize = 30\n",
    "n_epoch = 100\n",
    "\n",
    "#モデルを使う準備。オブジェクトを生成\n",
    "n_input = (key_data-1)*6\n",
    "n_hidden = [ (key_data-1)*6, (key_data-1)*3, key_data-1]\n",
    "n_output = 2\n",
    "model = L.Classifier(MyChain(n_input, n_hidden, n_output))\n",
    "#model = MyChain(n_input, n_hidden, n_output)\n",
    "optimizer = optimizers.Adam()\n",
    "optimizer.setup(model)\n",
    "\n",
    "#学習用データと検証用データに分ける\n",
    "train, test = chainer.datasets.split_dataset_random(data, int(N * 0.8)).astype(np.int32)\n",
    "train_iter = chainer.iterators.SerialIterator(train, n_batchsize, repeat=False, shuffle=False)\n",
    "test_iter = chainer.iterators.SerialIterator(test, n_batchsize, repeat=False, shuffle=False)\n",
    "print(train_iter.next()[0])\n",
    "#print(test_iter.next()[0])\n",
    "updater = training.StandardUpdater(train_iter, optimizer, device=-1)\n",
    "trainer = training.Trainer(updater, (n_epoch, \"epoch\"), out=\"result\")\n",
    "trainer.extend(extensions.Evaluator(test_iter, model, device=-1))\n",
    "trainer.extend(extensions.LogReport(trigger=(10, \"epoch\"))) # 10エポックごとにログ出力\n",
    "trainer.extend(extensions.PrintReport( [\"epoch\", \"main/loss\", \"validation/main/loss\", \"main/accuracy\", \"validation/main/accuracy\", \"elapsed_time\"])) # エポック、学習損失、テスト損失、学習正解率、テスト正解率、経過時間\n",
    "trainer.extend(extensions.ProgressBar()) # プログレスバー出力\n",
    "trainer.run()"
   ]
  },
  {
   "cell_type": "code",
   "execution_count": null,
   "metadata": {
    "collapsed": false
   },
   "outputs": [],
   "source": [
    "from chainer.dataset import concat_examples\n",
    "from chainer import Variable\n",
    "for epoch in range(n_epoch):\n",
    "        \n",
    "    ite  = chainer.iterators.SerialIterator(train_teach, batch_size=n_batchsize, \n",
    "                                            repeat=False, shuffle=False)\n",
    "    for i in range(0, train_teach.shape[0],n_batchsize):\n",
    "         \n",
    "        # 予測値を出力\n",
    "        #train_batch = ite.next()\n",
    "        train_batch = train_teach[i:i+n_batchsize-1]\n",
    "        train_ans_batch = train_ans[i:i+n_batchsize-1]\n",
    "        #train_batch = concat_examples(train_batch)\n",
    "        #train_ans_batch = concat_examples(train_ans_batch)\n",
    "        y_train_batch = model(train_batch)\n",
    "        \n",
    "        # 目的関数を適用し、分類精度を計算\n",
    "        #loss_train_batch = F.mean_squared_error(y_train_batch, train_ans_batch)\n",
    "        loss_train_batch = F.softmax_cross_entropy(y_train_batch, train_ans_batch)\n",
    "        accuracy_train_batch = F.accuracy(y_train_batch, train_ans_batch.flatten().astype(np.int32))\n",
    "\n",
    "        loss_list.append(loss_train_batch.array)\n",
    "        accuracy_list.append(accuracy_train_batch.array)\n",
    "    \n",
    "        # 勾配のリセットと勾配の計算\n",
    "        model.cleargrads()\n",
    "        loss_train_batch.backward()\n",
    "\n",
    "        # パラメータの更新\n",
    "        optimizer.update() \n",
    "        \n",
    "    # 訓練データに対する目的関数の出力と分類精度を集計\n",
    "    loss_train = np.mean(loss_list)\n",
    "    accuracy_train = np.mean(accuracy_list)\n",
    "\n",
    "    # 1エポック終えたら、検証データで評価\n",
    "    # 検証データで予測値を出力\n",
    "    with chainer.using_config('train', False), chainer.using_config('enable_backprop', False):\n",
    "        test_ans_y = model(test_teach)\n",
    "\n",
    "    # 目的関数を適用し、分類精度を計算\n",
    "    loss_val = F.softmax_cross_entropy(test_ans_y, test_ans)\n",
    "    accuracy_val = F.accuracy(test_ans_y, test_ans.flatten().astype(np.int32))\n",
    "\n",
    "    # 結果の表示\n",
    "    print('epoch: {},loss (train): {:.4f}, loss (valid): {:.4f}'.format(\n",
    "        epoch, loss_train, loss_val.array))\n",
    "\n",
    "    # ログを保存\n",
    "    results_train['loss'] .append(loss_train)\n",
    "    results_train['accuracy'] .append(accuracy_train)\n",
    "    results_valid['loss'].append(loss_val.array)\n",
    "    results_valid['accuracy'].append(accuracy_val.array)"
   ]
  },
  {
   "cell_type": "code",
   "execution_count": 7,
   "metadata": {
    "collapsed": false
   },
   "outputs": [
    {
     "data": {
      "text/plain": [
       "<matplotlib.legend.Legend at 0x7f830e2420b8>"
      ]
     },
     "execution_count": 7,
     "metadata": {},
     "output_type": "execute_result"
    },
    {
     "data": {
      "image/png": "[encoded data removed]",
      "text/plain": [
       "<matplotlib.figure.Figure at 0x7f82c7d267b8>"
      ]
     },
     "metadata": {},
     "output_type": "display_data"
    }
   ],
   "source": [
    "%matplotlib inline\n",
    "import matplotlib.pyplot as plt\n",
    "\n",
    "#目的関数の出力 (loss)\n",
    "plt.plot(results_train['loss'], label='train')  # label で凡例の設定\n",
    "plt.plot(results_valid['loss'], label='valid')  # label で凡例の設定\n",
    "plt.legend()  # 凡例の表示"
   ]
  },
  {
   "cell_type": "code",
   "execution_count": 8,
   "metadata": {
    "collapsed": false
   },
   "outputs": [
    {
     "data": {
      "text/plain": [
       "<matplotlib.legend.Legend at 0x7f82c7927f98>"
      ]
     },
     "execution_count": 8,
     "metadata": {},
     "output_type": "execute_result"
    },
    {
     "data": {
      "image/png": "[encoded data removed]",
      "text/plain": [
       "<matplotlib.figure.Figure at 0x7f83049e3400>"
      ]
     },
     "metadata": {},
     "output_type": "display_data"
    }
   ],
   "source": [
    "# 分類精度 (accuracy)\n",
    "plt.plot(results_train['accuracy'], label='train')  # label で凡例の設定\n",
    "plt.plot(results_valid['accuracy'], label='valid')  # label で凡例の設定\n",
    "plt.legend()  # 凡例の表示"
   ]
  },
  {
   "cell_type": "code",
   "execution_count": null,
   "metadata": {
    "collapsed": true
   },
   "outputs": [],
   "source": []
  }
 ],
 "metadata": {
  "kernelspec": {
   "display_name": "Python 3",
   "language": "python",
   "name": "python3"
  },
  "language_info": {
   "codemirror_mode": {
    "name": "ipython",
    "version": 3
   },
   "file_extension": ".py",
   "mimetype": "text/x-python",
   "name": "python",
   "nbconvert_exporter": "python",
   "pygments_lexer": "ipython3",
   "version": "3.6.0"
  }
 },
 "nbformat": 4,
 "nbformat_minor": 2
}
