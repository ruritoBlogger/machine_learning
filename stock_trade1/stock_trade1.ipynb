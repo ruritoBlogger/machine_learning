{
 "cells": [
  {
   "cell_type": "code",
   "execution_count": 9,
   "metadata": {
    "collapsed": true
   },
   "outputs": [],
   "source": [
    "import chainer\n",
    "from chainer import training, iterators, optimizers, serializers, Chain\n",
    "import chainer.functions as F\n",
    "import chainer.links as L\n",
    " \n",
    "from chainer.training import extensions\n",
    "from chainer.datasets import tuple_dataset\n",
    "import numpy as np"
   ]
  },
  {
   "cell_type": "code",
   "execution_count": 10,
   "metadata": {
    "collapsed": true
   },
   "outputs": [],
   "source": [
    "def data_read( file_name, key_data, is_one_hot ):\n",
    "    teachers = np.array([] )\n",
    "    answers =  np.array([] )\n",
    "\n",
    "    f = open( file_name, mode = \"r\" )\n",
    "\n",
    "    f_string = f.readlines()\n",
    "\n",
    "    day_data = np.array([] )\n",
    "    tmp_data = np.array([] )\n",
    "    for i in range( 0, len( f_string ) ):\n",
    "        \n",
    "        day_data = np.append( day_data, float(f_string[i].replace( \"\\n\", \"\" )))\n",
    "        \n",
    "        # 一日のデータを格納する\n",
    "        if( (i+1)%6 == 0 and i != 0 ):\n",
    "            # 引数を軸にデータを教師データと正解ラベルに振り分ける\n",
    "            if( (i+1)//6%key_data == 0):\n",
    "                # 正解ラベルは終値\n",
    "                teachers = np.append( teachers, tmp_data)\n",
    "                # 正解ラベルをone hotで表現する場合\n",
    "                if( is_one_hot ):\n",
    "                    answers = np.append( answers, tmp_data[6 * (key_data - 1) - 3] > day_data[3])\n",
    "                else:\n",
    "                    answers = np.append( answers, day_data[3] )\n",
    "                tmp_data = np.array([] )\n",
    "            else:\n",
    "                tmp_data = np.append( tmp_data, day_data)\n",
    "                #teachers = np.append( teachers, day_data )\n",
    "            day_data = np.array([] )\n",
    "            \n",
    "    f.close()\n",
    "\n",
    "    teachers = teachers.astype( np.float32 )\n",
    "    answers = answers.astype( np.float32 )\n",
    "\n",
    "    #teachers = np.reshape( teachers, ( int( len( teachers ) / 6 ), 6 ) )\n",
    "    #answers = np.reshape( answers, ( len( answers ) , 1 ) )\n",
    "\n",
    "    return teachers, answers\n"
   ]
  },
  {
   "cell_type": "code",
   "execution_count": 11,
   "metadata": {
    "collapsed": false
   },
   "outputs": [],
   "source": [
    "def take_data(year, key_day, is_one_hot):\n",
    "    file = open('nikkei.txt')\n",
    "    stock_numbers = file.readlines()\n",
    "    file.close()\n",
    "    \n",
    "    teachers = np.array([] )\n",
    "    answers =  np.array([] )\n",
    "    \n",
    "    for number in stock_numbers:\n",
    "        number = number.rstrip('\\n')\n",
    "        tmp_teacher, tmp_answer = data_read('./data/{}_{}.txt'.format(number, year), key_day, is_one_hot)\n",
    "        teachers = np.append( teachers, tmp_teacher)\n",
    "        answers = np.append( answers, tmp_answer)\n",
    "        \n",
    "    teachers = teachers.astype( np.float32 )\n",
    "    answers = answers.astype( np.float32 )\n",
    "\n",
    "    teachers = np.reshape( teachers, ( int( len( teachers ) / (6 * (key_day-1) ) ), 6 * (key_day-1) ) )\n",
    "    answers = np.reshape( answers, ( len( answers ) , 1 ) )\n",
    "    answers = answers.flat[:]\n",
    "\n",
    "    return teachers, answers"
   ]
  },
  {
   "cell_type": "code",
   "execution_count": 15,
   "metadata": {
    "collapsed": false
   },
   "outputs": [],
   "source": [
    "#ニューラルネットワークの構築。\n",
    "class MyChain(Chain):\n",
    "    \n",
    "    def __init__(self, n_input, n_hidden, n_output):\n",
    "        super(MyChain, self).__init__(\n",
    "        l1=L.Linear(n_input, n_hidden[0]),\n",
    "        l2=L.Linear(n_hidden[0], n_hidden[1]),\n",
    "        #l3=L.Linear(n_hidden[1], n_output),\n",
    "        l3=L.Linear(n_hidden[1], n_hidden[2]),\n",
    "        l4=L.Linear(n_hidden[2], n_output),\n",
    "        #l4=L.Linear(n_hidden[2], n_hidden[3]),\n",
    "        #l5=L.Linear(n_hidden[3], n_hidden[4]),\n",
    "        #l6=L.Linear(n_hidden[4], n_hidden[5]),\n",
    "        #l7=L.Linear(n_hidden[5], n_hidden[5]),\n",
    "        #l8=L.Linear(n_hidden[5], n_output),\n",
    "    )\n",
    " \n",
    "    def __call__(self, x):\n",
    "        h1 = F.relu(self.l1(x))\n",
    "        h2 = F.relu(self.l2(h1))\n",
    "        #o = self.l3(h2)\n",
    "        h3 = F.relu(self.l3(h2))\n",
    "        o = self.l4(h3)\n",
    "        #o = F.relu(self.l4(h3))\n",
    "        #h4 = F.relu(self.l4(h3))\n",
    "        #h5 = F.relu(self.l5(h4))\n",
    "        #h6 = F.relu(self.l6(h5))\n",
    "        #h7 = F.relu(self.l7(h6))\n",
    "        #o = self.l8(h7)\n",
    "        return o\n",
    "\n",
    "    "
   ]
  },
  {
   "cell_type": "code",
   "execution_count": 16,
   "metadata": {
    "collapsed": false
   },
   "outputs": [
    {
     "name": "stdout",
     "output_type": "stream",
     "text": [
      "(8920, 30)\n",
      "(8920,)\n"
     ]
    }
   ],
   "source": [
    "# 何日間のデータで学習させるか\n",
    "key_data = 6\n",
    "\n",
    "teachers, answers = take_data(2018, key_data, True)\n",
    "#学習、検証データの割合(単位：割)\n",
    "trainSt = 0 #学習用データの開始位置 0割目から〜\n",
    "trainPro = 8 #学習用データの終了位置　8割目まで\n",
    "testPro = 10 #検証用データの終了位置 8割目から10割目まで\n",
    "\n",
    "#総データの長さ\n",
    "N = len(teachers)\n",
    "\n",
    "# ログの保存用\n",
    "results_train = {\n",
    "    'loss': [],\n",
    "    'accuracy': []\n",
    "}\n",
    "results_valid = {\n",
    "    'loss': [],\n",
    "    'accuracy': []\n",
    "}\n",
    "\n",
    "#学習用データと検証用データに分ける\n",
    "train_teach= teachers[:N*trainPro//10]\n",
    "test_teach = teachers[N*trainPro//10:]\n",
    "\n",
    "train_ans= answers[:N*trainPro//10].astype(np.int32)\n",
    "test_ans = answers[N*trainPro//10:].astype(np.int32)\n",
    "\n",
    "#モデルを使う準備。オブジェクトを生成\n",
    "n_input = (key_data-1)*6\n",
    "#n_hidden = [(key_data-1)*6, (key_data-1)*4,(key_data-1)*4, (key_data-1)*3, (key_data-1)*2, key_data]\n",
    "n_hidden = [ (key_data-1)*6, (key_data-1)*3, key_data-1]\n",
    "#n_hidden = [ (key_data-1)*3, key_data-1]\n",
    "n_output = 2\n",
    "model = MyChain(n_input, n_hidden, n_output)\n",
    "\n",
    "# 最適化を行う\n",
    "optimizer = chainer.optimizers.Adam()\n",
    "#optimizer = chainer.optimizers.SGD(lr=0.01)\n",
    "optimizer.setup(model)\n",
    "\n",
    "n_epoch = 20\n",
    "n_batchsize = 16\n",
    "\n",
    "# 各バッチ毎の目的関数の出力と分類精度の保存用\n",
    "loss_list = []\n",
    "accuracy_list = []\n",
    "\n",
    "print(teachers.shape)\n",
    "print(answers.shape)"
   ]
  },
  {
   "cell_type": "code",
   "execution_count": 17,
   "metadata": {
    "collapsed": false
   },
   "outputs": [
    {
     "name": "stdout",
     "output_type": "stream",
     "text": [
      "epoch: 0,loss (train): 539.1160, loss (valid): 1.3574\n",
      "epoch: 1,loss (train): 274.2882, loss (valid): 0.6969\n",
      "epoch: 2,loss (train): 183.2579, loss (valid): 0.6972\n",
      "epoch: 3,loss (train): 137.6156, loss (valid): 0.6973\n",
      "epoch: 4,loss (train): 110.2302, loss (valid): 0.6973\n",
      "epoch: 5,loss (train): 91.9733, loss (valid): 0.6973\n",
      "epoch: 6,loss (train): 78.9326, loss (valid): 0.6973\n",
      "epoch: 7,loss (train): 69.1521, loss (valid): 0.6972\n",
      "epoch: 8,loss (train): 61.5450, loss (valid): 0.6972\n",
      "epoch: 9,loss (train): 55.4594, loss (valid): 0.6972\n",
      "epoch: 10,loss (train): 50.4802, loss (valid): 0.6972\n",
      "epoch: 11,loss (train): 46.3309, loss (valid): 0.6972\n",
      "epoch: 12,loss (train): 42.8200, loss (valid): 0.6972\n",
      "epoch: 13,loss (train): 39.8106, loss (valid): 0.6972\n",
      "epoch: 14,loss (train): 37.2024, loss (valid): 0.6972\n",
      "epoch: 15,loss (train): 34.9203, loss (valid): 0.6972\n",
      "epoch: 16,loss (train): 32.9067, loss (valid): 0.6972\n",
      "epoch: 17,loss (train): 31.1168, loss (valid): 0.6972\n",
      "epoch: 18,loss (train): 29.5153, loss (valid): 0.6972\n",
      "epoch: 19,loss (train): 28.0740, loss (valid): 0.6972\n"
     ]
    }
   ],
   "source": [
    "from chainer.dataset import concat_examples\n",
    "from chainer import Variable\n",
    "for epoch in range(n_epoch):\n",
    "        \n",
    "    ite  = chainer.iterators.SerialIterator(train_teach, batch_size=n_batchsize, \n",
    "                                            repeat=False, shuffle=True)\n",
    "    for i in range(0, train_teach.shape[0],n_batchsize):\n",
    "         \n",
    "        # 予測値を出力\n",
    "        #train_batch = ite.next()\n",
    "        train_batch = train_teach[i:i+n_batchsize-1]\n",
    "        train_ans_batch = train_ans[i:i+n_batchsize-1]\n",
    "        #train_batch = concat_examples(train_batch)\n",
    "        #train_ans_batch = concat_examples(train_ans_batch)\n",
    "        y_train_batch = model(train_batch)\n",
    "        \n",
    "        # 目的関数を適用し、分類精度を計算\n",
    "        #loss_train_batch = F.mean_squared_error(y_train_batch, train_ans_batch)\n",
    "        loss_train_batch = F.softmax_cross_entropy(y_train_batch, train_ans_batch)\n",
    "        accuracy_train_batch = F.accuracy(y_train_batch, train_ans_batch.flatten().astype(np.int32))\n",
    "\n",
    "        loss_list.append(loss_train_batch.array)\n",
    "        accuracy_list.append(accuracy_train_batch.array)\n",
    "    \n",
    "        # 勾配のリセットと勾配の計算\n",
    "        model.cleargrads()\n",
    "        loss_train_batch.backward()\n",
    "\n",
    "        # パラメータの更新\n",
    "        optimizer.update() \n",
    "        \n",
    "    # 訓練データに対する目的関数の出力と分類精度を集計\n",
    "    loss_train = np.mean(loss_list)\n",
    "    accuracy_train = np.mean(accuracy_list)\n",
    "\n",
    "    # 1エポック終えたら、検証データで評価\n",
    "    # 検証データで予測値を出力\n",
    "    with chainer.using_config('train', False), chainer.using_config('enable_backprop', False):\n",
    "        test_ans_y = model(test_teach)\n",
    "\n",
    "    # 目的関数を適用し、分類精度を計算\n",
    "    loss_val = F.softmax_cross_entropy(test_ans_y, test_ans)\n",
    "    accuracy_val = F.accuracy(test_ans_y, test_ans.flatten().astype(np.int32))\n",
    "\n",
    "    # 結果の表示\n",
    "    print('epoch: {},loss (train): {:.4f}, loss (valid): {:.4f}'.format(\n",
    "        epoch, loss_train, loss_val.array))\n",
    "\n",
    "    # ログを保存\n",
    "    results_train['loss'] .append(loss_train)\n",
    "    results_train['accuracy'] .append(accuracy_train)\n",
    "    results_valid['loss'].append(loss_val.array)\n",
    "    results_valid['accuracy'].append(accuracy_val.array)"
   ]
  },
  {
   "cell_type": "code",
   "execution_count": 18,
   "metadata": {
    "collapsed": false
   },
   "outputs": [
    {
     "data": {
      "text/plain": [
       "<matplotlib.legend.Legend at 0x7f4a6430ad30>"
      ]
     },
     "execution_count": 18,
     "metadata": {},
     "output_type": "execute_result"
    },
    {
     "data": {
      "image/png": "[encoded data removed]",
      "text/plain": [
       "<matplotlib.figure.Figure at 0x7f4a659c0438>"
      ]
     },
     "metadata": {},
     "output_type": "display_data"
    }
   ],
   "source": [
    "%matplotlib inline\n",
    "import matplotlib.pyplot as plt\n",
    "\n",
    "#目的関数の出力 (loss)\n",
    "plt.plot(results_train['loss'], label='train')  # label で凡例の設定\n",
    "plt.plot(results_valid['loss'], label='valid')  # label で凡例の設定\n",
    "plt.legend()  # 凡例の表示"
   ]
  },
  {
   "cell_type": "code",
   "execution_count": 19,
   "metadata": {
    "collapsed": false
   },
   "outputs": [
    {
     "data": {
      "text/plain": [
       "<matplotlib.legend.Legend at 0x7f4a64442cf8>"
      ]
     },
     "execution_count": 19,
     "metadata": {},
     "output_type": "execute_result"
    },
    {
     "data": {
      "image/png": "[encoded data removed]",
      "text/plain": [
       "<matplotlib.figure.Figure at 0x7f4a6433b2e8>"
      ]
     },
     "metadata": {},
     "output_type": "display_data"
    }
   ],
   "source": [
    "# 分類精度 (accuracy)\n",
    "plt.plot(results_train['accuracy'], label='train')  # label で凡例の設定\n",
    "plt.plot(results_valid['accuracy'], label='valid')  # label で凡例の設定\n",
    "plt.legend()  # 凡例の表示"
   ]
  },
  {
   "cell_type": "code",
   "execution_count": null,
   "metadata": {
    "collapsed": true
   },
   "outputs": [],
   "source": []
  }
 ],
 "metadata": {
  "kernelspec": {
   "display_name": "Python 3",
   "language": "python",
   "name": "python3"
  },
  "language_info": {
   "codemirror_mode": {
    "name": "ipython",
    "version": 3
   },
   "file_extension": ".py",
   "mimetype": "text/x-python",
   "name": "python",
   "nbconvert_exporter": "python",
   "pygments_lexer": "ipython3",
   "version": "3.6.0"
  }
 },
 "nbformat": 4,
 "nbformat_minor": 2
}
