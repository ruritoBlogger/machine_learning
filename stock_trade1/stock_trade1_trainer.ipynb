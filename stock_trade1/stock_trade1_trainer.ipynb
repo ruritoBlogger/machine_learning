{
 "cells": [
  {
   "cell_type": "code",
   "execution_count": 1,
   "metadata": {
    "collapsed": true
   },
   "outputs": [],
   "source": [
    "import chainer\n",
    "from chainer import training, iterators, optimizers, serializers, Chain\n",
    "import chainer.functions as F\n",
    "import chainer.links as L\n",
    " \n",
    "from chainer.training import extensions\n",
    "from chainer.datasets import tuple_dataset\n",
    "from chainer import optimizers, Chain, dataset, datasets, iterators\n",
    "import numpy as np"
   ]
  },
  {
   "cell_type": "code",
   "execution_count": 2,
   "metadata": {
    "collapsed": true
   },
   "outputs": [],
   "source": [
    "def data_read( file_name, key_data, is_one_hot ):\n",
    "    teachers = np.array([] )\n",
    "    answers =  np.array([] )\n",
    "\n",
    "    f = open( file_name, mode = \"r\" )\n",
    "\n",
    "    f_string = f.readlines()\n",
    "\n",
    "    day_data = np.array([] )\n",
    "    tmp_data = np.array([] )\n",
    "    for i in range( 0, len( f_string ) ):\n",
    "        \n",
    "        day_data = np.append( day_data, float(f_string[i].replace( \"\\n\", \"\" )))\n",
    "        \n",
    "        # 一日のデータを格納する\n",
    "        if( (i+1)%6 == 0 and i != 0 ):\n",
    "            # 引数を軸にデータを教師データと正解ラベルに振り分ける\n",
    "            if( (i+1)//6%key_data == 0):\n",
    "                # 正解ラベルは終値\n",
    "                teachers = np.append( teachers, tmp_data)\n",
    "                # 正解ラベルをone hotで表現する場合\n",
    "                if( is_one_hot ):\n",
    "                    answers = np.append( answers, tmp_data[6 * (key_data - 1) - 3] > day_data[3])\n",
    "                else:\n",
    "                    answers = np.append( answers, day_data[3] )\n",
    "                tmp_data = np.array([] )\n",
    "            else:\n",
    "                tmp_data = np.append( tmp_data, day_data)\n",
    "                #teachers = np.append( teachers, day_data )\n",
    "            day_data = np.array([] )\n",
    "            \n",
    "    f.close()\n",
    "\n",
    "    teachers = teachers.astype( np.float32 )\n",
    "    answers = answers.astype( np.float32 )\n",
    "\n",
    "    #teachers = np.reshape( teachers, ( int( len( teachers ) / 6 ), 6 ) )\n",
    "    #answers = np.reshape( answers, ( len( answers ) , 1 ) )\n",
    "\n",
    "    return teachers, answers\n"
   ]
  },
  {
   "cell_type": "code",
   "execution_count": 3,
   "metadata": {
    "collapsed": false
   },
   "outputs": [],
   "source": [
    "def take_data(year, key_day, is_one_hot):\n",
    "    file = open('nikkei.txt')\n",
    "    stock_numbers = file.readlines()\n",
    "    file.close()\n",
    "    \n",
    "    teachers = np.array([] )\n",
    "    answers =  np.array([] )\n",
    "    \n",
    "    for number in stock_numbers:\n",
    "        number = number.rstrip('\\n')\n",
    "        tmp_teacher, tmp_answer = data_read('./data/{}_{}.txt'.format(number, year), key_day, is_one_hot)\n",
    "        teachers = np.append( teachers, tmp_teacher)\n",
    "        answers = np.append( answers, tmp_answer)\n",
    "        \n",
    "    teachers = teachers.astype( np.float32 )\n",
    "    answers = answers.astype( np.float32 )\n",
    "\n",
    "    teachers = np.reshape( teachers, ( int( len( teachers ) / (6 * (key_day-1) ) ), 6 * (key_day-1) ) )\n",
    "    answers = np.reshape( answers, ( len( answers ) , 1 ) )\n",
    "    answers = answers.flat[:]\n",
    "\n",
    "    return teachers, answers"
   ]
  },
  {
   "cell_type": "code",
   "execution_count": 4,
   "metadata": {
    "collapsed": false
   },
   "outputs": [],
   "source": [
    "#ニューラルネットワークの構築。\n",
    "class MyChain(Chain):\n",
    "    \n",
    "    def __init__(self, n_input, n_hidden, n_output):\n",
    "        super(MyChain, self).__init__(\n",
    "        l1=L.Linear(n_input, n_hidden[0]),\n",
    "        l2=L.Linear(n_hidden[0], n_hidden[1]),\n",
    "        #l3=L.Linear(n_hidden[1], n_output),\n",
    "        l3=L.Linear(n_hidden[1], n_hidden[2]),\n",
    "        l4=L.Linear(n_hidden[2], n_output),\n",
    "        #l4=L.Linear(n_hidden[2], n_hidden[3]),\n",
    "        #l5=L.Linear(n_hidden[3], n_hidden[4]),\n",
    "        #l6=L.Linear(n_hidden[4], n_hidden[5]),\n",
    "        #l7=L.Linear(n_hidden[5], n_hidden[5]),\n",
    "        #l8=L.Linear(n_hidden[5], n_output),\n",
    "    )\n",
    " \n",
    "    def __call__(self, x):\n",
    "        h1 = F.relu(self.l1(x))\n",
    "        h2 = F.relu(self.l2(h1))\n",
    "        #o = self.l3(h2)\n",
    "        h3 = F.relu(self.l3(h2))\n",
    "        o = self.l4(h3)\n",
    "        #o = F.relu(self.l4(h3))\n",
    "        #h4 = F.relu(self.l4(h3))\n",
    "        #h5 = F.relu(self.l5(h4))\n",
    "        #h6 = F.relu(self.l6(h5))\n",
    "        #h7 = F.relu(self.l7(h6))\n",
    "        #o = self.l8(h7)\n",
    "        return o"
   ]
  },
  {
   "cell_type": "code",
   "execution_count": 12,
   "metadata": {
    "collapsed": false,
    "scrolled": true
   },
   "outputs": [
    {
     "name": "stdout",
     "output_type": "stream",
     "text": [
      "epoch       main/loss   validation/main/loss  main/accuracy  validation/main/accuracy  elapsed_time\n",
      "\u001b[J10          864.148     2.83365               0.522993       0.523714                  12.393        \n",
      "\u001b[J20          0.814026    0.692213              0.524226       0.521667                  26.8327       \n",
      "\u001b[J30          0.691751    0.692213              0.524264       0.521667                  42.6726       \n",
      "\u001b[J40          0.691755    0.692213              0.524226       0.521667                  56.2663       \n",
      "\u001b[J50          0.691753    0.692213              0.52424        0.521667                  70.0192       \n",
      "\u001b[J60          0.691751    0.692213              0.524264       0.521667                  82.9858       \n",
      "\u001b[J70          0.691755    0.692213              0.524226       0.521667                  96.0618       \n",
      "\u001b[J80          0.691753    0.692213              0.52424        0.521667                  109.103       \n",
      "\u001b[J90          0.691751    0.692213              0.524264       0.521667                  122.068       \n",
      "\u001b[J100         0.691755    0.692213              0.524226       0.521667                  135.147       \n"
     ]
    }
   ],
   "source": [
    "# 何日間のデータで学習させるか\n",
    "key_data = 6\n",
    "\n",
    "teachers, answers = take_data(2018, key_data, True)\n",
    "teachers = teachers.astype(np.float32)\n",
    "answers = answers.astype(np.int32)\n",
    "\n",
    "#　教師データのtupleを作成する\n",
    "\n",
    "data = datasets.TupleDataset(teachers, answers)\n",
    "\n",
    "#総データの長さ\n",
    "N = len(teachers)\n",
    "\n",
    "# ログの保存用\n",
    "results_train = {\n",
    "    'loss': [],\n",
    "    'accuracy': []\n",
    "}\n",
    "results_valid = {\n",
    "    'loss': [],\n",
    "    'accuracy': []\n",
    "}\n",
    "\n",
    "n_batchsize = 30\n",
    "n_epoch = 100\n",
    "\n",
    "#モデルを使う準備。オブジェクトを生成\n",
    "n_input = (key_data-1)*6\n",
    "n_hidden = [ (key_data-1)*6, (key_data-1)*3, key_data-1]\n",
    "n_output = 2\n",
    "model = L.Classifier(MyChain(n_input, n_hidden, n_output))\n",
    "#model = MyChain(n_input, n_hidden, n_output)\n",
    "optimizer = optimizers.Adam()\n",
    "optimizer.setup(model)\n",
    "\n",
    "#学習用データと検証用データに分ける\n",
    "train, test = chainer.datasets.split_dataset_random(data, int(N * 0.8))\n",
    "train_iter = chainer.iterators.SerialIterator(train, n_batchsize, shuffle=False)\n",
    "test_iter = chainer.iterators.SerialIterator(test, n_batchsize, repeat=False, shuffle=False)\n",
    "#print(test_iter.next()[0])\n",
    "updater = training.StandardUpdater(train_iter, optimizer, device=-1)\n",
    "trainer = training.Trainer(updater, (n_epoch, \"epoch\"), out=\"result\")\n",
    "trainer.extend(extensions.Evaluator(test_iter, model, device=-1))\n",
    "trainer.extend(extensions.LogReport(trigger=(10, \"epoch\"))) # 1エポックごとにログ出力\n",
    "trainer.extend(extensions.PrintReport( [\"epoch\", \"main/loss\", \"validation/main/loss\", \"main/accuracy\", \"validation/main/accuracy\", \"elapsed_time\"])) # エポック、学習損失、テスト損失、学習正解率、テスト正解率、経過時間\n",
    "#trainer.extend(extensions.ProgressBar()) # プログレスバー出力\n",
    "#trainer.extend(extensions.dump_graph('main/accuracy'))\n",
    "trainer.extend(extensions.PlotReport(['main/loss', 'val/main/loss'], x_key='epoch', file_name='loss.png'))\n",
    "trainer.extend(extensions.PlotReport(['main/accuracy', 'val/main/accuracy'], x_key='epoch', file_name='accuracy.png'))\n",
    "trainer.run()"
   ]
  },
  {
   "cell_type": "code",
   "execution_count": 13,
   "metadata": {
    "collapsed": false
   },
   "outputs": [
    {
     "data": {
      "image/png": "[encoded data removed]"
     },
     "metadata": {},
     "output_type": "display_data"
    }
   ],
   "source": [
    "from IPython.display import Image, display_png\n",
    "display_png(Image(\"./result/accuracy.png\"))"
   ]
  },
  {
   "cell_type": "code",
   "execution_count": 14,
   "metadata": {
    "collapsed": false
   },
   "outputs": [
    {
     "data": {
      "image/png": "[encoded data removed]"
     },
     "metadata": {},
     "output_type": "display_data"
    }
   ],
   "source": [
    "display_png(Image(\"./result/loss.png\"))"
   ]
  },
  {
   "cell_type": "code",
   "execution_count": null,
   "metadata": {
    "collapsed": true
   },
   "outputs": [],
   "source": []
  }
 ],
 "metadata": {
  "kernelspec": {
   "display_name": "Python 3",
   "language": "python",
   "name": "python3"
  },
  "language_info": {
   "codemirror_mode": {
    "name": "ipython",
    "version": 3
   },
   "file_extension": ".py",
   "mimetype": "text/x-python",
   "name": "python",
   "nbconvert_exporter": "python",
   "pygments_lexer": "ipython3",
   "version": "3.6.0"
  }
 },
 "nbformat": 4,
 "nbformat_minor": 2
}
